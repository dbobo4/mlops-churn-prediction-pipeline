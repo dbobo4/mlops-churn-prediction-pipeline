{
 "cells": [
  {
   "cell_type": "code",
   "execution_count": null,
   "id": "926254c3",
   "metadata": {},
   "outputs": [],
   "source": [
    "import requests\n",
    "import constants\n",
    "\n",
    "# Waitress has to be running for the API to work\n",
    "url = f\"{constants.REST_API_BASE_URL}model/predict\" # The URL need to be completed with the corresponding endpoint (inference)\n",
    "\n",
    "sample_data = [\n",
    "    \"7590-VHVEG\", \"Female\", \"0\", \"Yes\", \"No\", \"1\", \"No\", \"No phone service\", \"DSL\", \"No\", \n",
    "    \"Yes\", \"No\", \"No\", \"No\", \"No\", \"Month-to-month\", \"Yes\", \"Electronic check\", \"29.85\", \"29.85\", \"No\"\n",
    "]\n",
    "\n",
    "data = {\n",
    "    \"inference_row\": sample_data\n",
    "}\n",
    "\n",
    "response = requests.post(url, json=data)\n",
    "\n",
    "# Válasz kiírása\n",
    "print('Status Code:', response.status_code)\n",
    "print('Response Body:', response.text)"
   ]
  }
 ],
 "metadata": {
  "language_info": {
   "name": "python"
  }
 },
 "nbformat": 4,
 "nbformat_minor": 5
}
