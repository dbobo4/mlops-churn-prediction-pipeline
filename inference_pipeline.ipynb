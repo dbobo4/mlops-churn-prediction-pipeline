{
 "cells": [
  {
   "cell_type": "code",
   "execution_count": null,
   "id": "b74b720b",
   "metadata": {},
   "outputs": [],
   "source": [
    "import utils\n",
    "import constants\n",
    "import pandas as pd\n",
    "\n",
    "pd.set_option('display.max_columns', None)\n",
    "\n",
    "# Load and preprocess data\n",
    "df = utils.load_data(constants.ORIGINAL_DATA_FILE_PATH)\n",
    "\n",
    "sample_data = utils.get_sample_data(df)\n",
    "\n",
    "sample_data = utils.clean_data_for_inference(sample_data)\n",
    "\n",
    "# Encoding categorical features\n",
    "df_sample_data_before_split_customer_id = sample_data\n",
    "sample_data, customer_id_text_column_names = utils.split_customer_id(sample_data)\n",
    "df_sample_data_after_split_customer_id = sample_data\n",
    "sample_data = utils.encode_features(sample_data, customer_id_text_column_names)\n",
    "\n",
    "# Apply scaling\n",
    "sample_data = utils.scale_features(sample_data)\n",
    "\n",
    "# Save preprocessed data (just for why not)\n",
    "sample_data.to_csv(constants.PREPROCESSED_INFERENCE_DATA_PATH, index=False)\n",
    "\n",
    "# Load model and make predictions\n",
    "model = utils.load_model(constants.TRAINED_MODEL_PATH)\n",
    "if model:\n",
    "    X = sample_data.drop('Churn_encoded', axis=1)\n",
    "    y = sample_data['Churn_encoded']\n",
    "    prediction = model.predict(X)\n",
    "    print(f'The predicted value is: {prediction}')"
   ]
  }
 ],
 "metadata": {
  "kernelspec": {
   "display_name": "Python 3",
   "language": "python",
   "name": "python3"
  },
  "language_info": {
   "name": "python",
   "version": "3.12.7"
  }
 },
 "nbformat": 4,
 "nbformat_minor": 5
}
